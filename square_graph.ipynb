{
 "cells": [
  {
   "cell_type": "code",
   "execution_count": 9,
   "id": "f7d98fda",
   "metadata": {},
   "outputs": [],
   "source": [
    "from utils.graph import graph \n",
    "from utils.math import int_sqrt"
   ]
  },
  {
   "cell_type": "code",
   "execution_count": 12,
   "id": "ba7e8c43",
   "metadata": {},
   "outputs": [],
   "source": [
    "def checksquaresplit(N):\n",
    "#generates the graph of edges with vertices in [n,2*N+1] where the edge set consists of {x,y} where x+y is a perfect square\n",
    "#the routine checks whether the graph is bipartite\n",
    "    g = graph()\n",
    "    #for x in range(N,2*N+1): g.add_vertex(x)\n",
    "    \n",
    "    #list squares in sum range 2N+1...4N-1\n",
    "    squares = []\n",
    "    s = int_sqrt(4*N-1)\n",
    "    while s*s >= 2*N+1:\n",
    "        squares.insert(0,s*s)\n",
    "        s = s-1\n",
    "    if squares == []: return True\n",
    "    #create the graph where the vertex labels of an edge add to a square\n",
    "    for s in squares:\n",
    "        for x in range(N,2*N+1):\n",
    "            y = s-x\n",
    "            if y in range(N,2*N+1) and not y == x:\n",
    "                g.add_edge(x,y)\n",
    "    #print(g.edges)\n",
    "\n",
    "    return g.isbipartite()"
   ]
  },
  {
   "cell_type": "code",
   "execution_count": 13,
   "id": "80f6c6d4",
   "metadata": {},
   "outputs": [
    {
     "name": "stdout",
     "output_type": "stream",
     "text": [
      "10\n",
      "11\n",
      "12\n",
      "13\n",
      "14\n",
      "15\n",
      "16\n",
      "17\n",
      "18\n",
      "19\n",
      "20\n",
      "21\n",
      "22\n",
      "23\n",
      "24\n",
      "25\n",
      "26\n",
      "27\n",
      "28\n",
      "29\n",
      "30\n",
      "31\n",
      "32\n",
      "33\n",
      "34\n",
      "35\n",
      "36\n",
      "37\n",
      "38\n",
      "39\n",
      "40\n",
      "41\n",
      "42\n",
      "43\n",
      "44\n",
      "45\n",
      "46\n",
      "47\n",
      "50\n",
      "51\n",
      "52\n",
      "53\n",
      "54\n",
      "55\n",
      "56\n",
      "57\n",
      "58\n",
      "59\n",
      "60\n",
      "61\n",
      "62\n",
      "72\n",
      "73\n",
      "74\n",
      "75\n",
      "76\n",
      "77\n",
      "78\n",
      "79\n",
      "98\n"
     ]
    }
   ],
   "source": [
    "for x in range(10,123):\n",
    "    if checksquaresplit(x): print(x)"
   ]
  },
  {
   "cell_type": "code",
   "execution_count": null,
   "id": "1967303f",
   "metadata": {},
   "outputs": [],
   "source": []
  }
 ],
 "metadata": {
  "kernelspec": {
   "display_name": "Python 3 (ipykernel)",
   "language": "python",
   "name": "python3"
  },
  "language_info": {
   "codemirror_mode": {
    "name": "ipython",
    "version": 3
   },
   "file_extension": ".py",
   "mimetype": "text/x-python",
   "name": "python",
   "nbconvert_exporter": "python",
   "pygments_lexer": "ipython3",
   "version": "3.9.5"
  }
 },
 "nbformat": 4,
 "nbformat_minor": 5
}
